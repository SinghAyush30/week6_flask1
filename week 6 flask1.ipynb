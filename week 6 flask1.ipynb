{
 "cells": [
  {
   "cell_type": "markdown",
   "id": "4a2ed40a-baff-4d49-916c-fbb08d79cbfb",
   "metadata": {},
   "source": [
    "Ans1) Flask is a micro web framework for Python. It provides a simple and lightweight way to build web applications. Flask is known for its simplicity and flexibility, allowing us to quickly create web applications with minimal overhead and a small learning curve.\n",
    "\n",
    "Here are some advantages of using the Flask framework:     \n",
    "i)Flask is designed to be simple and minimalistic, providing only the essential features needed for web development. It doesn't impose any particular project structure or dependencies, giving developers the freedom to choose the tools and libraries they prefer.      \n",
    "ii) Flask allows developers to add or remove components as needed, making it highly customizable.    \n",
    "iii) Flask comes with a built-in development server, which allows developers to run and test their applications without the need for additional setup. This feature is useful during the development phase, as it provides a convenient way to quickly iterate and debug applications."
   ]
  },
  {
   "cell_type": "markdown",
   "id": "b79ca9ea-d82e-43cb-bc8f-ebeea57342d4",
   "metadata": {},
   "source": [
    "Ans2)"
   ]
  },
  {
   "cell_type": "markdown",
   "id": "2eb2ff68-c64b-474f-a458-883134834532",
   "metadata": {},
   "source": [
    "<img src = \"Screenshot (2).png\">"
   ]
  },
  {
   "cell_type": "markdown",
   "id": "10c3437c-c156-4152-af68-1ad7a113e720",
   "metadata": {},
   "source": [
    "Ans3) In Flask, app routing refers to the process of defining routes or URLs that the Flask application will respond to. Routes are essentially mappings between URLs and functions in your Flask application. When a client (e.g., a web browser) makes a request to a specific URL, Flask uses the defined routes to determine which function should handle the request and generate the appropriate response.\n",
    "\n",
    "We use app routes in Flask for several reasons:      \n",
    "i)App routes allow us to define separate functions to handle different URLs or endpoints of our application. This helps organize our code and makes it easier to handle different parts of your application's functionality.    \n",
    "\n",
    "ii)It often include dynamic segments in the URL, such as parameters or placeholders. These dynamic segments can be used to pass data to the associated function, allowing you to generate dynamic content based on the requested URL.     \n",
    "\n",
    "iii)These are commonly used in Flask to implement RESTful APIs. Each route represents a different endpoint or resource in the API, and the associated function handles the logic for processing requests and returning responses."
   ]
  },
  {
   "cell_type": "markdown",
   "id": "eb35f46a-9469-4a54-8560-9f29192cefe7",
   "metadata": {},
   "source": [
    "Ans4) "
   ]
  },
  {
   "cell_type": "markdown",
   "id": "ec3abd09-22cf-45a6-8801-cb27b076bb0d",
   "metadata": {},
   "source": [
    "<img src = \"Screenshot (4).png\">"
   ]
  },
  {
   "cell_type": "markdown",
   "id": "1029fb08-b739-4f62-9087-c02dd3ec7ae1",
   "metadata": {},
   "source": [
    "<img src =\"Screenshot (3).png\" >"
   ]
  },
  {
   "cell_type": "markdown",
   "id": "30a27dc7-58da-45e0-a560-39b4a1be832a",
   "metadata": {},
   "source": [
    "Ans5) In Flask, the url_for() function is used for URL building. It generates a URL for a specific endpoint, based on the name of the endpoint and any additional arguments we provide. This function helps us to create dynamic URLs in our Flask application, allowing us to avoid hardcoding the URLs and making our code more flexible.\n"
   ]
  },
  {
   "cell_type": "code",
   "execution_count": 3,
   "id": "71a6e257-4f62-42cd-9907-632d9fb14a67",
   "metadata": {},
   "outputs": [
    {
     "name": "stdout",
     "output_type": "stream",
     "text": [
      "/\n",
      "/user/pwskills\n"
     ]
    }
   ],
   "source": [
    "#Here's an example Python code that demonstrates the working of the url_for() function in Flask:\n",
    "# using pip install flask\n",
    "from flask import Flask, url_for\n",
    "\n",
    "app = Flask(__name__)\n",
    "\n",
    "@app.route('/')\n",
    "def home():\n",
    "    return 'Welcome to the Home Page!'\n",
    "\n",
    "@app.route('/user/<username>')\n",
    "def user_profile(username):\n",
    "    return f'Welcome, {username}!'\n",
    "\n",
    "\n",
    "if __name__ == '__main__':\n",
    "    with app.test_request_context():\n",
    "        print(url_for('home'))\n",
    "        print(url_for('user_profile', username='pwskills'))"
   ]
  },
  {
   "cell_type": "code",
   "execution_count": null,
   "id": "b3973455-6ae7-404d-8349-7929e6677e89",
   "metadata": {},
   "outputs": [],
   "source": []
  }
 ],
 "metadata": {
  "kernelspec": {
   "display_name": "Python 3 (ipykernel)",
   "language": "python",
   "name": "python3"
  },
  "language_info": {
   "codemirror_mode": {
    "name": "ipython",
    "version": 3
   },
   "file_extension": ".py",
   "mimetype": "text/x-python",
   "name": "python",
   "nbconvert_exporter": "python",
   "pygments_lexer": "ipython3",
   "version": "3.10.8"
  }
 },
 "nbformat": 4,
 "nbformat_minor": 5
}
